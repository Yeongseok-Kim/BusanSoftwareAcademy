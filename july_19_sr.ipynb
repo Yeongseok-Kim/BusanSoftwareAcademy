{
  "nbformat": 4,
  "nbformat_minor": 0,
  "metadata": {
    "colab": {
      "name": "sr.ipynb",
      "version": "0.3.2",
      "provenance": [],
      "collapsed_sections": [],
      "toc_visible": true
    },
    "kernelspec": {
      "name": "python3",
      "display_name": "Python 3"
    },
    "accelerator": "GPU"
  },
  "cells": [
    {
      "cell_type": "code",
      "metadata": {
        "id": "k4fUXXeNYpUN",
        "colab_type": "code",
        "colab": {}
      },
      "source": [
        "from google.colab import drive\n",
        "drive.mount('/content/drive')"
      ],
      "execution_count": 0,
      "outputs": []
    },
    {
      "cell_type": "code",
      "metadata": {
        "id": "EuTjdc7dYnu8",
        "colab_type": "code",
        "colab": {}
      },
      "source": [
        "!unzip './drive/My Drive/dataset/srdb.zip'"
      ],
      "execution_count": 0,
      "outputs": []
    },
    {
      "cell_type": "markdown",
      "metadata": {
        "id": "jg8AgtLLxdzy",
        "colab_type": "text"
      },
      "source": [
        "#Dataset"
      ]
    },
    {
      "cell_type": "code",
      "metadata": {
        "id": "NydwlE9a552x",
        "colab_type": "code",
        "colab": {}
      },
      "source": [
        "import torch\n",
        "from torch.utils.data.dataset import Dataset\n",
        "\n",
        "import torchvision\n",
        "import torchvision.transforms as transforms\n",
        "\n",
        "import os\n",
        "\n",
        "from PIL import Image\n",
        "\n",
        "class read_dataset(Dataset):\n",
        "    def __init__(self,data_dir):\n",
        "        self.data_list=[data_dir+file_name for file_name in os.listdir(data_dir)]\n",
        "        self.random_crop=transforms.Compose([transforms.RandomCrop((64,64))])\n",
        "        self.make_lowscale=transforms.Compose([transforms.Resize((32,32))])\n",
        "        self.totensor=transforms.Compose([transforms.ToTensor()])\n",
        "        \n",
        "    def __len__(self):\n",
        "        return len(self.data_list)\n",
        "    \n",
        "    def __getitem__(self,index):\n",
        "        original_img=Image.open(self.data_list[index])\n",
        "        \n",
        "        original_img=self.random_crop(original_img)\n",
        "        lowscale_img=self.make_lowscale(original_img)\n",
        "        \n",
        "        original_img=self.totensor(original_img)\n",
        "        lowscale_img=self.totensor(lowscale_img)\n",
        "                \n",
        "        return original_img,lowscale_img"
      ],
      "execution_count": 0,
      "outputs": []
    },
    {
      "cell_type": "markdown",
      "metadata": {
        "id": "JNK8pRbBxs7E",
        "colab_type": "text"
      },
      "source": [
        "#Model"
      ]
    },
    {
      "cell_type": "code",
      "metadata": {
        "id": "HpxUcHB_6iSe",
        "colab_type": "code",
        "colab": {}
      },
      "source": [
        "import torch.nn as nn\n",
        "\n",
        "class SRNet(nn.Module):\n",
        "    def __init__(self):\n",
        "        super(SRNet,self).__init__()\n",
        "        self.layer=nn.Sequential(\n",
        "            nn.Conv2d(3,64,9,1,4),\n",
        "            nn.LeakyReLU(0.2),\n",
        "            \n",
        "            nn.Conv2d(64,32,1,1,0),\n",
        "            nn.LeakyReLU(0.2),\n",
        "            \n",
        "            nn.ConvTranspose2d(32,3,4,2,1),\n",
        "            nn.Tanh()\n",
        "        )\n",
        "\n",
        "    def forward(self,x):\n",
        "        out=self.layer(x)\n",
        "        return out"
      ],
      "execution_count": 0,
      "outputs": []
    },
    {
      "cell_type": "markdown",
      "metadata": {
        "id": "E1BcsqSksVzT",
        "colab_type": "text"
      },
      "source": [
        "#Training"
      ]
    },
    {
      "cell_type": "code",
      "metadata": {
        "id": "5rjvu-JR6u8F",
        "colab_type": "code",
        "colab": {}
      },
      "source": [
        "import torch.optim as optim\n",
        "from torch.utils.data import DataLoader\n",
        "\n",
        "# 디바이스 식별\n",
        "\n",
        "device='cuda' if torch.cuda.is_available() else 'cpu'\n",
        "\n",
        "if __name__=='__main__':\n",
        "    batch_size=64\n",
        "    \n",
        "    # 트레이닝 데이터 로드\n",
        "\n",
        "    train_data=read_dataset('./sr/')\n",
        "    train_set=DataLoader(train_data,batch_size,True)\n",
        "\n",
        "    # 트레이닝\n",
        "\n",
        "    learning_rate=0.0002\n",
        "    training_epochs=5001\n",
        "\n",
        "    net=SRNet().to(device)\n",
        "\n",
        "    criterion=nn.MSELoss()\n",
        "    \n",
        "    optimizer=optim.Adam(net.parameters(),learning_rate)\n",
        "\n",
        "    print('Learning started. It takes sometime.')\n",
        "\n",
        "    for epoch in range(1,training_epochs):\n",
        "        for original,lowscale in train_set:\n",
        "            original=original.to(device)\n",
        "            lowscale=lowscale.to(device)\n",
        "            \n",
        "            batch_size=original.size(0)\n",
        "\n",
        "            optimizer.zero_grad()\n",
        "\n",
        "            hypothesis=net(lowscale)\n",
        "            cost=criterion(hypothesis,original)\n",
        "\n",
        "            cost.backward()\n",
        "            optimizer.step()\n",
        "            \n",
        "        print('epoch',epoch,'is over')\n",
        "            \n",
        "        # 트레이닝 데이터 저장\n",
        "        \n",
        "        if epoch%1000==0:\n",
        "            torch.save(net.state_dict(),'./model_epoch_%d.pth'%(epoch))\n",
        "    \n",
        "    print('Learning Finished!')"
      ],
      "execution_count": 0,
      "outputs": []
    },
    {
      "cell_type": "markdown",
      "metadata": {
        "id": "FcAQ8lIRtr7J",
        "colab_type": "text"
      },
      "source": [
        "#Test"
      ]
    },
    {
      "cell_type": "code",
      "metadata": {
        "id": "c-bNqvBTtu-5",
        "colab_type": "code",
        "outputId": "3e20ea37-fe99-47fe-9a34-3947c13ea6ea",
        "colab": {
          "base_uri": "https://localhost:8080/",
          "height": 204
        }
      },
      "source": [
        "from matplotlib import pyplot as plt\n",
        "\n",
        "transform=transforms.Compose([transforms.ToTensor()])\n",
        "\n",
        "if __name__=='__main__':\n",
        "    net=SRNet()\n",
        "\n",
        "    # 네트워크 데이터 로드\n",
        "\n",
        "    load_net='./model_epoch_5000.pth'\n",
        "    net.load_state_dict(torch.load(load_net))\n",
        "\n",
        "    with torch.no_grad():\n",
        "        test_img=Image.open('./test.png')\n",
        "        h,w=test_img.size\n",
        "        test_img=test_img.crop((0,0,int(h/32)*32,int(w/32)*32))\n",
        "        z=transform(test_img)\n",
        "        fake_image=net(z.unsqueeze(0))\n",
        "                        \n",
        "        fig=plt.figure()\n",
        "        ax1=fig.add_subplot(1,2,1)\n",
        "        ax2=fig.add_subplot(1,2,2)\n",
        "        \n",
        "        ax1.imshow(test_img)\n",
        "        ax2.imshow(fake_image.squeeze().permute(1,2,0).numpy().clip(0,1))\n",
        "        \n",
        "        plt.show()\n",
        "        \n",
        "        torchvision.utils.save_image(fake_image,'test_to_sr.png')"
      ],
      "execution_count": 6,
      "outputs": [
        {
          "output_type": "display_data",
          "data": {
            "image/png": "[encoded data removed]",
            "text/plain": [
              "<Figure size 432x288 with 2 Axes>"
            ]
          },
          "metadata": {
            "tags": []
          }
        }
      ]
    }
  ]
}